{
 "cells": [
  {
   "cell_type": "code",
   "execution_count": 1,
   "id": "aae2b8cf-cda2-4b71-ba3f-92de070c31f0",
   "metadata": {},
   "outputs": [],
   "source": [
    "from ANI1_release.ANI1_release.readers.lib import pyanitools as pya\n",
    "from sklearn.model_selection import train_test_split\n",
    "\n",
    "\n",
    "import torch \n",
    "from torch import nn\n",
    "import numpy as np\n",
    "import torchani\n",
    "\n",
    "\n",
    "from torch.optim import SGD, Adam\n",
    "import torch.nn.functional as F\n",
    "import random\n",
    "from tqdm import tqdm\n",
    "import math\n",
    "from sklearn.model_selection import train_test_split\n",
    "\n",
    "import matplotlib.pyplot as plt"
   ]
  },
  {
   "cell_type": "markdown",
   "id": "a406d6c2",
   "metadata": {},
   "source": [
    "# 2) Network  construction  and  workflow  development.  At  this  point  you  should  have  a working code that can train the network, demonstrated on small subset of the data. "
   ]
  },
  {
   "cell_type": "code",
   "execution_count": 2,
   "id": "c9c865a6-f880-4b42-ad6b-731c35638938",
   "metadata": {},
   "outputs": [
    {
     "name": "stdout",
     "output_type": "stream",
     "text": [
      "Path:    /gdb11_s01/gdb11_s01-0\n",
      "  Smiles:       [H]C([H])([H])[H]\n",
      "  Symbols:      ['C', 'H', 'H', 'H', 'H']\n",
      "  Coordinates:  (5400, 5, 3)\n",
      "  Energies:     (5400,) \n",
      "\n",
      "3\n",
      "10800\n"
     ]
    }
   ],
   "source": [
    "from ANI1_release.ANI1_release.readers.lib.pyanitools import anidataloader\n",
    "data = anidataloader(\"ANI1_release/ANI1_release/ani_gdb_s01.h5\")\n",
    "data_iter = data.__iter__()\n",
    "\n",
    "mols = next(data_iter)\n",
    "# Extract the data\n",
    "P = mols['path']\n",
    "X = mols['coordinates']\n",
    "E = mols['energies']\n",
    "S = mols['species']\n",
    "sm = mols['smiles']\n",
    "\n",
    "# Print the data\n",
    "print(\"Path:   \", P)\n",
    "print(\"  Smiles:      \",\"\".join(sm))\n",
    "print(\"  Symbols:     \", S)\n",
    "print(\"  Coordinates: \", X.shape)\n",
    "print(\"  Energies:    \", E.shape, \"\\n\")\n",
    "\n",
    "\n",
    "    \n",
    "    \n",
    "   \n",
    "\n",
    "data_iter = data.__iter__()\n",
    "count=0\n",
    "count_conf =0\n",
    "for mol in data_iter:\n",
    "    count+=1\n",
    "    count_conf += len(mol['energies'])\n",
    "print(count)\n",
    "print(count_conf)\n",
    "\n",
    "\n"
   ]
  },
  {
   "cell_type": "markdown",
   "id": "12bfc099",
   "metadata": {},
   "source": [
    "# customized aev function used to calculate aev of each molecule"
   ]
  },
  {
   "cell_type": "code",
   "execution_count": 3,
   "id": "7214c4f5-b9c4-49eb-af18-1ed1ebb9cd86",
   "metadata": {},
   "outputs": [],
   "source": [
    "def calc_aev(X,S):\n",
    "    Rcr=5.2\n",
    "    Rca=3.5\n",
    "    EtaR=torch.tensor([16],dtype=torch.float)\n",
    "    ShfR=torch.tensor([0.900000,1.168750,1.437500,1.706250,1.975000,2.243750,2.51250,2.781250,3.050000,3.318750,3.587500,3.856250,4.125000,4.39375,4.662500,4.931250],dtype=torch.float)\n",
    "    EtaA=torch.tensor([8],dtype=torch.float)\n",
    "    Zeta=torch.tensor([32],dtype=torch.float)\n",
    "    ShfA=torch.tensor([0.900000,1.550000,2.200000,2.850000],dtype=torch.float)\n",
    "    ShfZ=torch.tensor([0.19634954,0.58904862,0.9817477,1.3744468,1.7671459,2.1598449,2.552544,2.945243],dtype=torch.float)\n",
    "    num_species=4\n",
    "    X=torch.tensor(X,dtype=torch.float)\n",
    "    mapping={\"H\":0, \"C\":1, \"N\":2, \"O\":3}\n",
    "    \n",
    "    \n",
    "    elements = np.array([mapping[atom] for atom in S])\n",
    "    elements2=torch.tensor(elements,dtype=torch.long).repeat(X.shape[0],1)\n",
    "    \n",
    "    aevs_X=torchani.AEVComputer(Rcr,Rca,EtaR,ShfR,EtaA,Zeta,ShfA,ShfZ,num_species)\n",
    "    \n",
    "    \n",
    "    \n",
    "    aev_calc=aevs_X((elements2,X))\n",
    "    molecule_aev=aev_calc[1]\n",
    "    molecule_aev_shape=aev_calc[1].shape\n",
    "    \n",
    "    \n",
    "    return molecule_aev,molecule_aev_shape,S"
   ]
  },
  {
   "cell_type": "code",
   "execution_count": 4,
   "id": "3c39ce8b-1640-4c56-8f31-dad747bdeb7b",
   "metadata": {},
   "outputs": [
    {
     "name": "stdout",
     "output_type": "stream",
     "text": [
      "Path:    /gdb11_s01/gdb11_s01-0\n",
      "  Smiles:       [H]C([H])([H])[H]\n",
      "  Symbols:      ['C', 'H', 'H', 'H', 'H']\n",
      "  Coordinates:  (5400, 5, 3)\n",
      "  Energies:     (5400,) \n",
      "\n",
      "Path:    /gdb11_s01/gdb11_s01-1\n",
      "  Smiles:       [H]N([H])[H]\n",
      "  Symbols:      ['N', 'H', 'H', 'H']\n",
      "  Coordinates:  (3600, 4, 3)\n",
      "  Energies:     (3600,) \n",
      "\n",
      "Path:    /gdb11_s01/gdb11_s01-2\n",
      "  Smiles:       [H]O[H]\n",
      "  Symbols:      ['O', 'H', 'H']\n",
      "  Coordinates:  (1800, 3, 3)\n",
      "  Energies:     (1800,) \n",
      "\n"
     ]
    },
    {
     "name": "stderr",
     "output_type": "stream",
     "text": [
      "/home/joyce/miniconda3/lib/python3.9/site-packages/torchani/aev.py:236: UserWarning: __floordiv__ is deprecated, and its behavior will change in a future version of pytorch. It currently rounds toward 0 (like the 'trunc' function NOT 'floor'). This results in incorrect rounding for negative values. To keep the current behavior, use torch.div(a, b, rounding_mode='trunc'), or for actual floor division, use torch.div(a, b, rounding_mode='floor').\n",
      "  pair_sizes = counts * (counts - 1) // 2\n"
     ]
    },
    {
     "name": "stdout",
     "output_type": "stream",
     "text": [
      "torch.Size([5400, 5, 384])\n",
      "torch.Size([3600, 4, 384])\n",
      "torch.Size([1800, 3, 384])\n"
     ]
    }
   ],
   "source": [
    "import ANI1_release.ANI1_release.readers.lib.pyanitools as pya\n",
    "seq=list()\n",
    "\n",
    "# Set the HDF5 file containing the data\n",
    "hdf5file = 'ANI1_release/ANI1_release/ani_gdb_s01.h5'\n",
    "\n",
    "# Construct the data loader class\n",
    "adl = pya.anidataloader(hdf5file)\n",
    "\n",
    "# Print the species of the data set one by one\n",
    "for data in adl:\n",
    "\n",
    "    # Extract the data\n",
    "    P = data['path']\n",
    "    X = data['coordinates']\n",
    "    E = data['energies']\n",
    "    S = data['species']\n",
    "    sm = data['smiles']\n",
    "    \n",
    "    # Print the data\n",
    "    print(\"Path:   \", P)\n",
    "    print(\"  Smiles:      \",\"\".join(sm))\n",
    "    print(\"  Symbols:     \", S)\n",
    "    print(\"  Coordinates: \", X.shape)\n",
    "    print(\"  Energies:    \", E.shape, \"\\n\")\n",
    "    \n",
    "\n",
    "\n",
    "\n",
    "    seq.append(data)\n",
    "    \n",
    "    \n",
    "    \n",
    "    \n",
    "\n",
    "list_coords=[]\n",
    "for i in range(count):\n",
    "    list_coords.append(seq[i]['coordinates'])\n",
    "\n",
    "\n",
    "list_species=[]\n",
    "for i in range(count):\n",
    "    list_species.append(seq[i]['species'])\n",
    "\n",
    "\n",
    "list_energies=[]\n",
    "for i in range(count):\n",
    "    list_energies.append(seq[i]['energies'])\n",
    "    \n",
    "\n",
    "list_species_coords_=zip(list_coords,list_species)\n",
    "list_aevs_=[calc_aev(X,S) for X,S in list_species_coords_]\n",
    "\n",
    "for i in range(count):\n",
    "    print(list_aevs_[i][0].shape)\n",
    "\n",
    "\n",
    "adl.cleanup()"
   ]
  },
  {
   "cell_type": "markdown",
   "id": "87022ab7",
   "metadata": {},
   "source": [
    "# data generator that batches into a molecules'confirmations "
   ]
  },
  {
   "cell_type": "code",
   "execution_count": 5,
   "id": "0c394fbe",
   "metadata": {},
   "outputs": [],
   "source": [
    "def data_gen(X,y, batchsize):\n",
    "    '''\n",
    "    Generator for data\n",
    "    '''\n",
    "    if len(X)//batchsize == 0:\n",
    "        return X[:batchsize],y[:batchsize]\n",
    "\n",
    "    for i in range(len(X)//batchsize):\n",
    "        yield X[i*batchsize:(i+1)*batchsize],y[i*batchsize:(i+1)*batchsize]\n",
    "    i+=1\n",
    "    yield X[i*batchsize:],y[i*batchsize:]\n",
    "    "
   ]
  },
  {
   "cell_type": "code",
   "execution_count": 6,
   "id": "b3af26d7-0b98-4e9f-8865-c31bf2b19240",
   "metadata": {},
   "outputs": [],
   "source": [
    "from functools import wraps\n",
    "from time import time\n",
    "\n",
    "def timing(f):\n",
    "    @wraps(f)\n",
    "    def wrap(*args, **kw):\n",
    "        ts = time()\n",
    "        result = f(*args, **kw)\n",
    "        te = time()\n",
    "        print('func:%r  took: %2.4f sec' % (f.__name__,  te-ts))\n",
    "        return result\n",
    "    return wrap"
   ]
  },
  {
   "cell_type": "markdown",
   "id": "1b5384c8",
   "metadata": {},
   "source": [
    "# trainer class takes X's that correspond to the molecules' coordinates and molecules actual energy, atom_types is a list of lists of atoms that make up that individual molecule. Loss is collected for each molecule then added iteratively."
   ]
  },
  {
   "cell_type": "code",
   "execution_count": 7,
   "id": "2a5b46a6-bb90-4203-a292-88ca8e515bc2",
   "metadata": {},
   "outputs": [],
   "source": [
    "class Trainer():\n",
    "    def __init__(self, model, optimizer_type, learning_rate, epoch, batch_size, input_transform=lambda x: x,):\n",
    "        \"\"\" The class for training the model\n",
    "        model: nn.Module\n",
    "            A pytorch model\n",
    "        optimizer_type: 'adam' or 'sgd'\n",
    "        learning_rate: float\n",
    "        epoch: int\n",
    "        batch_size: int\n",
    "        input_transform: func\n",
    "            transforming input. Can do reshape here\n",
    "        \"\"\"\n",
    "        self.model = model\n",
    "        if optimizer_type == \"sgd\":\n",
    "            self.optimizer = SGD(model.parameters(), learning_rate,momentum=0.9)\n",
    "        elif optimizer_type == \"adam\":\n",
    "            self.optimizer = Adam(model.parameters(), learning_rate)\n",
    "            \n",
    "        self.epoch = epoch\n",
    "        self.batch_size = batch_size\n",
    "        self.input_transform = input_transform\n",
    "\n",
    "\n",
    "    @timing\n",
    "    def train(self, inputs, outputs, val_inputs, val_outputs, test_inputs,test_outputs,atom_types,draw_curve=False,early_stop=False,l2=False,silent=False):\n",
    "        \"\"\" train self.model with specified arguments\n",
    "        inputs: np.array, The shape of input_transform(input) should be (ndata,nfeatures)\n",
    "        outputs: np.array shape (ndata,)\n",
    "        val_nputs: np.array, The shape of input_transform(val_input) should be (ndata,nfeatures)\n",
    "        val_outputs: np.array shape (ndata,)\n",
    "        early_stop: bool\n",
    "        l2: bool\n",
    "        silent: bool. Controls whether or not to print the train and val error during training\n",
    "        \"\"\"\n",
    "        \n",
    "        train_gen_coords_energies=[]\n",
    "        for i in range(count):\n",
    "            train_gen=data_gen(inputs[i],outputs[i],self.batch_size)\n",
    "            train_gen_coords_energies.append(next(train_gen))\n",
    "            \n",
    "        train_gen_coords=[]\n",
    "        for i in range(count):\n",
    "            train_gen_coords.append(train_gen_coords_energies[i][0])\n",
    "            \n",
    "        train_gen_energies=[]\n",
    "        for i in range(count):\n",
    "            train_gen_energies.append(train_gen_coords_energies[i][1])\n",
    "            \n",
    "        \n",
    "        list_species_coords=zip(train_gen_coords,atom_types)\n",
    "        list_aevs=[calc_aev(X,S) for X,S in list_species_coords]\n",
    "        \n",
    "\n",
    "\n",
    "        \n",
    "        losses = []\n",
    "        val_losses = []\n",
    "        test_losses=[]\n",
    "        weights = self.model.state_dict()\n",
    "        lowest_val_loss = np.inf\n",
    "        \n",
    "        lowest_test_loss = np.inf\n",
    "\n",
    "        \n",
    "\n",
    "        for n_epoch in tqdm(range(self.epoch), leave=False):\n",
    "            self.model.train()\n",
    "    \n",
    "            epoch_loss = 0\n",
    "            epoch_acc = 0\n",
    "\n",
    "            for i in range(len(list_aevs)):\n",
    "                batch_predictions = self.model(list_aevs[i][0],list_aevs[i][2])\n",
    "\n",
    "\n",
    "                batch_importance = len(train_gen_coords_energies[i][1]) / len(outputs)\n",
    "                loss = nn.MSELoss()(batch_predictions, torch.tensor(train_gen_energies[i],dtype=torch.float,))\n",
    "\n",
    "                self.optimizer.zero_grad()\n",
    "                loss.backward()\n",
    "                self.optimizer.step()\n",
    "                epoch_loss += loss.detach().cpu().item() * batch_importance                \n",
    "            \n",
    "            val_loss = self.evaluate(val_inputs, val_outputs, atom_types,print_acc=False)\n",
    "            if n_epoch % 10 ==0 and not silent: \n",
    "                print(\"Epoch %d/%d - Loss: %.3f\" % (n_epoch + 1, self.epoch, epoch_loss))\n",
    "                print(\"              Val_loss: %.3f \" % (val_loss))\n",
    "                \n",
    "            losses.append(epoch_loss)\n",
    "            val_losses.append(val_loss)\n",
    "            \n",
    "            test_loss=self.evaluate(test_inputs, test_outputs, atom_types,print_acc=False)\n",
    "            if n_epoch % 10 ==0 and not silent: \n",
    "                print(\"Epoch %d/%d - Loss: %.3f\" % (n_epoch + 1, self.epoch, epoch_loss))\n",
    "                print(\"              Test_loss: %.3f \" % (test_loss))\n",
    "                \n",
    "            test_losses.append(test_loss)\n",
    "            \n",
    "            if early_stop:\n",
    "                if val_loss < lowest_val_loss:\n",
    "                    lowest_val_loss = val_loss\n",
    "                    weights = self.model.state_dict()\n",
    "                    \n",
    "            if early_stop:\n",
    "                if val_loss < lowest_test_loss:\n",
    "                    lowest_test_loss = test_loss\n",
    "                    weights = self.model.state_dict()\n",
    "        if draw_curve:\n",
    "            plt.figure()\n",
    "            plt.plot(np.arange(self.epoch) + 1,losses,label='Training loss')\n",
    "            plt.plot(np.arange(self.epoch) + 1,val_losses,label='Validation loss')\n",
    "            plt.xlabel('Epochs')\n",
    "            plt.ylabel('Loss')\n",
    "            plt.legend()\n",
    "        \n",
    "        if early_stop:\n",
    "            self.model.load_state_dict(weights)\n",
    "\n",
    "\n",
    "        return {\"losses\": losses,  \"val_losses\": val_losses, \"test_losses\": test_losses}\n",
    "        \n",
    "    def evaluate(self, inputs, outputs, atom_types,print_acc=True):\n",
    "        gen_coords_energies=[]\n",
    "        for i in range(count):\n",
    "            gen=data_gen(inputs[i],outputs[i],self.batch_size)\n",
    "            gen_coords_energies.append(next(gen))\n",
    "            \n",
    "        gen_coords=[]\n",
    "        for i in range(count):\n",
    "            gen_coords.append(gen_coords_energies[i][0])\n",
    "            \n",
    "        gen_energies=[]\n",
    "        for i in range(count):\n",
    "            gen_energies.append(gen_coords_energies[i][1])\n",
    "            \n",
    "        self.model.eval()\n",
    "            \n",
    "        \n",
    "        list_species_coords=zip(gen_coords,atom_types)\n",
    "        list_aevs=[calc_aev(X,S) for X,S in list_species_coords]\n",
    "        \n",
    "\n",
    "        losses = 0\n",
    "\n",
    "        for i in range(len(list_aevs)):\n",
    "            \n",
    "            batch_importance = len(gen_coords_energies[i][1]) / len(outputs)\n",
    "            \n",
    "            with torch.no_grad():\n",
    "                batch_predictions = self.model(list_aevs[i][0],list_aevs[i][2])\n",
    "                loss = nn.MSELoss()(batch_predictions, torch.tensor(gen_energies[i],dtype=torch.float,))\n",
    "                \n",
    "\n",
    "                \n",
    "            losses += loss.detach().cpu().item() * batch_importance\n",
    "\n",
    "        return losses"
   ]
  },
  {
   "cell_type": "markdown",
   "id": "dba9f63d",
   "metadata": {},
   "source": [
    "# neural network that takes atom type iteratively than predicts an energy for each molecule"
   ]
  },
  {
   "cell_type": "code",
   "execution_count": 8,
   "id": "dde226d4-bcbd-4453-a652-80120d4cf964",
   "metadata": {},
   "outputs": [],
   "source": [
    "class ANI(nn.Module):\n",
    "    def __init__(self):\n",
    "        super().__init__()\n",
    "        self.sub_nets = nn.ModuleDict({\"C\": ANI_sub(nn.Sequential(nn.Linear(384,300), nn.CELU(0.1), nn.Linear(300,10))), \n",
    "                                       \"H\": ANI_sub(nn.Sequential(nn.Linear(384,300),nn.CELU(0.1),  nn.Linear(300,10))),\n",
    "                                       \"N\": ANI_sub(nn.Sequential(nn.Linear(384,300),  nn.CELU(0.1),nn.Linear(300,10))), \n",
    "                                       \"O\": ANI_sub(nn.Sequential(nn.Linear(384,300),nn.CELU(0.1),  nn.Linear(300,10)))})\n",
    "\n",
    "    def forward(self, aevs, atom_types):\n",
    "        num_conf, num_atoms, aev_vec=aevs.shape\n",
    "        atomic_energies=torch.empty((num_conf, 0),dtype=torch.float)\n",
    "        aev_shape=aevs.reshape(num_atoms, num_conf, aev_vec)\n",
    "        for i in range(len(atom_types)):\n",
    "            atom=self.sub_nets[atom_types[i]](aev_shape[i])\n",
    "#             atom=torch.tensor(atom,dtype=torch.float)\n",
    "\n",
    "            atomic_energies=torch.cat((atomic_energies,atom),1,)\n",
    "#             print('tot eng OUT: {}'.format(atomic_energies))\n",
    "#             print('tot eng: {}'.format(atomic_energies.requires_grad))\n",
    "    \n",
    "    \n",
    "    \n",
    "        \n",
    "        total_energies = torch.sum(atomic_energies,dim=-1,dtype=torch.float,)\n",
    "#         print('tot eng OUT: {}'.format(total_energies))\n",
    "#         print('tot eng: {}'.format(total_energies.requires_grad))\n",
    "\n",
    "        return total_energies\n",
    "                            \n",
    "class ANI_sub(nn.Module):\n",
    "    def __init__(self, architecture):\n",
    "        super().__init__()\n",
    "        self.layers= architecture\n",
    "        \n",
    "    def forward(self, aev):\n",
    "        atomic_energy = self.layers(aev)\n",
    "        return atomic_energy"
   ]
  },
  {
   "cell_type": "markdown",
   "id": "7215c12c",
   "metadata": {},
   "source": [
    "# train_test_split for tests, validation, and train tests for each molecule that is appended to each respective lists "
   ]
  },
  {
   "cell_type": "code",
   "execution_count": 9,
   "id": "9d93ac6f",
   "metadata": {},
   "outputs": [],
   "source": [
    "train_X=[]\n",
    "train_y=[]\n",
    "test_X=[]\n",
    "test_y=[]\n",
    "val_X=[]\n",
    "val_y=[]\n",
    "for i in range(count):\n",
    "    train_Xs, test_Xs, train_ys, test_ys = train_test_split(list_coords[i],list_energies[i],test_size=0.2,random_state=42)\n",
    "    train_Xs, val_Xs, train_ys, val_ys = train_test_split(train_Xs,train_ys,test_size=0.2,random_state=42)\n",
    "    \n",
    "    train_X.append(train_Xs)\n",
    "    train_y.append(train_ys)\n",
    "    test_X.append(test_Xs)\n",
    "    test_y.append(test_ys)\n",
    "    val_X.append(val_Xs)\n",
    "    val_y.append(val_ys)\n",
    "\n",
    "\n"
   ]
  },
  {
   "cell_type": "markdown",
   "id": "e4b76145",
   "metadata": {},
   "source": [
    "# trainer class running to measure loss using MSE "
   ]
  },
  {
   "cell_type": "code",
   "execution_count": 10,
   "id": "6dfaf76a",
   "metadata": {},
   "outputs": [
    {
     "name": "stdout",
     "output_type": "stream",
     "text": [
      "=================================================================\n",
      "Layer (type:depth-idx)                   Param #\n",
      "=================================================================\n",
      "├─ModuleDict: 1-1                        --\n",
      "|    └─ANI_sub: 2-1                      --\n",
      "|    |    └─Sequential: 3-1              118,510\n",
      "|    └─ANI_sub: 2-2                      --\n",
      "|    |    └─Sequential: 3-2              118,510\n",
      "|    └─ANI_sub: 2-3                      --\n",
      "|    |    └─Sequential: 3-3              118,510\n",
      "|    └─ANI_sub: 2-4                      --\n",
      "|    |    └─Sequential: 3-4              118,510\n",
      "=================================================================\n",
      "Total params: 474,040\n",
      "Trainable params: 474,040\n",
      "Non-trainable params: 0\n",
      "=================================================================\n"
     ]
    }
   ],
   "source": [
    "from torchsummary import summary\n",
    "model=ANI()\n",
    "summary(model)\n",
    "trainer = Trainer(model, 'adam', 1e-2, 50, 60) "
   ]
  },
  {
   "cell_type": "code",
   "execution_count": 11,
   "id": "cc552559",
   "metadata": {},
   "outputs": [
    {
     "name": "stderr",
     "output_type": "stream",
     "text": [
      "  6%|██▋                                         | 3/50 [00:00<00:07,  6.35it/s]"
     ]
    },
    {
     "name": "stdout",
     "output_type": "stream",
     "text": [
      "Epoch 1/50 - Loss: 190604.563\n",
      "              Val_loss: 110693.057 \n",
      "Epoch 1/50 - Loss: 190604.563\n",
      "              Test_loss: 110101.700 \n"
     ]
    },
    {
     "name": "stderr",
     "output_type": "stream",
     "text": [
      " 26%|███████████▏                               | 13/50 [00:01<00:02, 12.82it/s]"
     ]
    },
    {
     "name": "stdout",
     "output_type": "stream",
     "text": [
      "Epoch 11/50 - Loss: 669.072\n",
      "              Val_loss: 557.783 \n",
      "Epoch 11/50 - Loss: 669.072\n",
      "              Test_loss: 501.612 \n"
     ]
    },
    {
     "name": "stderr",
     "output_type": "stream",
     "text": [
      " 46%|███████████████████▊                       | 23/50 [00:01<00:01, 15.31it/s]"
     ]
    },
    {
     "name": "stdout",
     "output_type": "stream",
     "text": [
      "Epoch 21/50 - Loss: 65.210\n",
      "              Val_loss: 88.166 \n",
      "Epoch 21/50 - Loss: 65.210\n",
      "              Test_loss: 75.286 \n"
     ]
    },
    {
     "name": "stderr",
     "output_type": "stream",
     "text": [
      " 66%|████████████████████████████▍              | 33/50 [00:02<00:01, 12.64it/s]"
     ]
    },
    {
     "name": "stdout",
     "output_type": "stream",
     "text": [
      "Epoch 31/50 - Loss: 35.170\n",
      "              Val_loss: 44.546 \n",
      "Epoch 31/50 - Loss: 35.170\n",
      "              Test_loss: 40.604 \n"
     ]
    },
    {
     "name": "stderr",
     "output_type": "stream",
     "text": [
      " 86%|████████████████████████████████████▉      | 43/50 [00:03<00:00, 14.36it/s]"
     ]
    },
    {
     "name": "stdout",
     "output_type": "stream",
     "text": [
      "Epoch 41/50 - Loss: 22.729\n",
      "              Val_loss: 36.271 \n",
      "Epoch 41/50 - Loss: 22.729\n",
      "              Test_loss: 32.904 \n"
     ]
    },
    {
     "name": "stderr",
     "output_type": "stream",
     "text": [
      "                                                                                \r"
     ]
    },
    {
     "name": "stdout",
     "output_type": "stream",
     "text": [
      "func:'train'  took: 3.9239 sec\n"
     ]
    },
    {
     "data": {
      "image/png": "[encoded data removed]",
      "text/plain": [
       "<Figure size 432x288 with 1 Axes>"
      ]
     },
     "metadata": {
      "needs_background": "light"
     },
     "output_type": "display_data"
    }
   ],
   "source": [
    "log=trainer.train(train_X, train_y, val_X, val_y, test_X,test_y,list_species,draw_curve=True)"
   ]
  }
 ],
 "metadata": {
  "kernelspec": {
   "display_name": "NERSC Python",
   "language": "python",
   "name": "python3"
  },
  "language_info": {
   "codemirror_mode": {
    "name": "ipython",
    "version": 3
   },
   "file_extension": ".py",
   "mimetype": "text/x-python",
   "name": "python",
   "nbconvert_exporter": "python",
   "pygments_lexer": "ipython3",
   "version": "3.9.7"
  }
 },
 "nbformat": 4,
 "nbformat_minor": 5
}
